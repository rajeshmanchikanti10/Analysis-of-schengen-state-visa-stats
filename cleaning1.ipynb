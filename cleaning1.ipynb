{
 "cells": [
  {
   "cell_type": "code",
   "execution_count": 1,
   "metadata": {},
   "outputs": [],
   "source": [
    "import pandas as pd\n"
   ]
  },
  {
   "cell_type": "code",
   "execution_count": 3,
   "metadata": {},
   "outputs": [],
   "source": [
    "df=pd.read_csv(\"initialdata.csv\",encoding=\"latin-1\")\n",
    "del df['Not issued rate for ATVs']"
   ]
  },
  {
   "cell_type": "code",
   "execution_count": 4,
   "metadata": {},
   "outputs": [
    {
     "name": "stdout",
     "output_type": "stream",
     "text": [
      "Index(['Schengen State', 'Country where consulate is located', 'Consulate',\n",
      "       'ATVs applied', ' ATVs issued (including multiple)', 'ATVs not issued ',\n",
      "       'Uniform visas applied for', 'uniform visas issued including MEVs\\n',\n",
      "       'Multiple entry uniform visas (MEVs) issued',\n",
      "       'Share of MEVs on total number of uniform visas issued',\n",
      "       'Total LTVs issued', 'Uniform visas not issued',\n",
      "       'Not issued rate for uniform visas',\n",
      "       'Total ATVs and uniform visas applied for',\n",
      "       'Total ATVs and uniform visas issued  (including multiple ATVs, MEVs and LTVs) ',\n",
      "       'Total ATVs and uniform visas not issued',\n",
      "       'Not issued rate for ATVs and uniform visas '],\n",
      "      dtype='object')\n",
      "1200       220\n",
      "1201         1\n",
      "1202       665\n",
      "1203     4,588\n",
      "1204         5\n",
      "1205     4,045\n",
      "1206    13,605\n",
      "1207     4,046\n",
      "1208       NaN\n",
      "1209       636\n",
      "1210       906\n",
      "1211       167\n",
      "1212       NaN\n",
      "1213    10,145\n",
      "1214    10,589\n",
      "1215       823\n",
      "1216     1,256\n",
      "1217       973\n",
      "1218        96\n",
      "1219       482\n",
      "1220       295\n",
      "1221       393\n",
      "1222        65\n",
      "1223     8,755\n",
      "1224     5,948\n",
      "1225     1,701\n",
      "1226       371\n",
      "1227        75\n",
      "1228    39,571\n",
      "1229         2\n",
      "         ...  \n",
      "1870      6198\n",
      "1871      8460\n",
      "1872       149\n",
      "1873     20008\n",
      "1874     19041\n",
      "1875      1241\n",
      "1876      1003\n",
      "1877      3342\n",
      "1878      1195\n",
      "1879      7089\n",
      "1880       177\n",
      "1881         7\n",
      "1882         1\n",
      "1883      6690\n",
      "1884       684\n",
      "1885         1\n",
      "1886        72\n",
      "1887      1023\n",
      "1888     42819\n",
      "1889      2680\n",
      "1890     13257\n",
      "1891       328\n",
      "1892     20667\n",
      "1893      8216\n",
      "1894      1592\n",
      "1895      3444\n",
      "1896      3623\n",
      "1897      1022\n",
      "1898         6\n",
      "1899      3334\n",
      "Name: uniform visas issued including MEVs\\n, Length: 700, dtype: object\n",
      "object\n"
     ]
    }
   ],
   "source": [
    "del df['Multiple ATVs issued']\n",
    "print(df.columns)\n",
    "print(df['uniform visas issued including MEVs\\n'][1200:1900])\n",
    "print(df['Total LTVs issued'].dtype)"
   ]
  },
  {
   "cell_type": "code",
   "execution_count": 5,
   "metadata": {},
   "outputs": [],
   "source": [
    "df['Total LTVs issued']=df['Total LTVs issued'].str.replace(',','')\n",
    "df['Total LTVs issued']=pd.to_numeric(df['Total LTVs issued'],errors='corece')\n",
    "df['Uniform visas applied for']=df['Uniform visas applied for'].str.replace(',','')\n",
    "df['Uniform visas applied for']=pd.to_numeric(df['Uniform visas applied for'],errors='coerce')\n",
    "df['uniform visas issued including MEVs\\n']=df['uniform visas issued including MEVs\\n'].str.replace(',','')\n",
    "df['uniform visas issued including MEVs\\n']=pd.to_numeric(df['uniform visas issued including MEVs\\n'],errors='coerce')\n",
    "df['Uniform visas not issued']=df['Uniform visas not issued'].str.replace(',','')\n",
    "df['Uniform visas not issued']=pd.to_numeric(df['Uniform visas not issued'],errors='coerce')\n",
    "df['Multiple entry uniform visas (MEVs) issued']=df['Multiple entry uniform visas (MEVs) issued'].str.replace(',','')\n",
    "df['Multiple entry uniform visas (MEVs) issued']=pd.to_numeric(df['Multiple entry uniform visas (MEVs) issued'],errors='coerce')"
   ]
  },
  {
   "cell_type": "code",
   "execution_count": 6,
   "metadata": {
    "scrolled": true
   },
   "outputs": [
    {
     "name": "stderr",
     "output_type": "stream",
     "text": [
      "C:\\Users\\Rajesh\\Anaconda3\\lib\\site-packages\\ipykernel_launcher.py:7: SettingWithCopyWarning: \n",
      "A value is trying to be set on a copy of a slice from a DataFrame\n",
      "\n",
      "See the caveats in the documentation: http://pandas.pydata.org/pandas-docs/stable/indexing.html#indexing-view-versus-copy\n",
      "  import sys\n"
     ]
    }
   ],
   "source": [
    "df['uniform visas issued including MEVs\\n'][1200:1900]\n",
    "for i in range(0,len(df['Uniform visas applied for'])):\n",
    "    if(pd.isnull(df['Uniform visas applied for'][i])):\n",
    "        if(pd.isnull(df['uniform visas issued including MEVs\\n'][i])&pd.isnull(df['Uniform visas not issued'][i])&pd.isnull(df['Total LTVs issued'][i])):\n",
    "            df['Uniform visas applied for'][i]=0;\n",
    "        else:\n",
    "            df['Uniform visas applied for'][i]=df['Uniform visas not issued'][i]\n",
    "    "
   ]
  },
  {
   "cell_type": "code",
   "execution_count": 7,
   "metadata": {},
   "outputs": [
    {
     "name": "stderr",
     "output_type": "stream",
     "text": [
      "C:\\Users\\Rajesh\\Anaconda3\\lib\\site-packages\\ipykernel_launcher.py:4: SettingWithCopyWarning: \n",
      "A value is trying to be set on a copy of a slice from a DataFrame\n",
      "\n",
      "See the caveats in the documentation: http://pandas.pydata.org/pandas-docs/stable/indexing.html#indexing-view-versus-copy\n",
      "  after removing the cwd from sys.path.\n",
      "C:\\Users\\Rajesh\\Anaconda3\\lib\\site-packages\\ipykernel_launcher.py:9: SettingWithCopyWarning: \n",
      "A value is trying to be set on a copy of a slice from a DataFrame\n",
      "\n",
      "See the caveats in the documentation: http://pandas.pydata.org/pandas-docs/stable/indexing.html#indexing-view-versus-copy\n",
      "  if __name__ == '__main__':\n",
      "C:\\Users\\Rajesh\\Anaconda3\\lib\\site-packages\\ipykernel_launcher.py:6: SettingWithCopyWarning: \n",
      "A value is trying to be set on a copy of a slice from a DataFrame\n",
      "\n",
      "See the caveats in the documentation: http://pandas.pydata.org/pandas-docs/stable/indexing.html#indexing-view-versus-copy\n",
      "  \n",
      "C:\\Users\\Rajesh\\Anaconda3\\lib\\site-packages\\ipykernel_launcher.py:7: SettingWithCopyWarning: \n",
      "A value is trying to be set on a copy of a slice from a DataFrame\n",
      "\n",
      "See the caveats in the documentation: http://pandas.pydata.org/pandas-docs/stable/indexing.html#indexing-view-versus-copy\n",
      "  import sys\n",
      "C:\\Users\\Rajesh\\Anaconda3\\lib\\site-packages\\ipykernel_launcher.py:12: SettingWithCopyWarning: \n",
      "A value is trying to be set on a copy of a slice from a DataFrame\n",
      "\n",
      "See the caveats in the documentation: http://pandas.pydata.org/pandas-docs/stable/indexing.html#indexing-view-versus-copy\n",
      "  if sys.path[0] == '':\n"
     ]
    }
   ],
   "source": [
    "for i in range(0,len(df['Total LTVs issued'])):\n",
    "    if(pd.isnull(df['Total LTVs issued'][i])):\n",
    "        if(pd.notnull(df['uniform visas issued including MEVs\\n'][i]) & pd.isnull(df['Uniform visas not issued'][i])):\n",
    "            df['Total LTVs issued'][i]=df['Uniform visas applied for'][i]-df[ 'uniform visas issued including MEVs\\n'][i]\n",
    "        elif(pd.isnull(df[ 'uniform visas issued including MEVs\\n'][i])& pd.notnull(df['Uniform visas not issued'][i])):\n",
    "            df[ 'Total LTVs issued'][i]=df['Uniform visas applied for'][i]-df[ 'uniform visas issued including MEVs\\n'][i]-df['Uniform visas not issued'][i]\n",
    "            df['uniform visas issued including MEVs\\n'][i]=0\n",
    "        else:\n",
    "            df['Total LTVs issued'][i]=df['Uniform visas applied for'][i]-df[ 'uniform visas issued including MEVs\\n'][i]-df['Uniform visas not issued'][i]\n",
    "for i in range(0,len(df['Multiple entry uniform visas (MEVs) issued'])):\n",
    "    if(pd.isnull(df['Multiple entry uniform visas (MEVs) issued'][i])):\n",
    "       df['Multiple entry uniform visas (MEVs) issued'][i]=0\n"
   ]
  },
  {
   "cell_type": "code",
   "execution_count": 8,
   "metadata": {},
   "outputs": [
    {
     "name": "stdout",
     "output_type": "stream",
     "text": [
      "1208        NaN\n",
      "1209      636.0\n",
      "1210      906.0\n",
      "1211      167.0\n",
      "1212        0.0\n",
      "1213    10145.0\n",
      "1214    10589.0\n",
      "1215      823.0\n",
      "1216     1256.0\n",
      "1217      973.0\n",
      "1218       96.0\n",
      "1219      482.0\n",
      "1220      295.0\n",
      "1221      393.0\n",
      "1222       65.0\n",
      "1223     8755.0\n",
      "1224     5948.0\n",
      "1225     1701.0\n",
      "1226      371.0\n",
      "1227       75.0\n",
      "1228    39571.0\n",
      "1229        2.0\n",
      "1230        2.0\n",
      "1231     5048.0\n",
      "1232      411.0\n",
      "1233    35317.0\n",
      "1234     1919.0\n",
      "1235     1353.0\n",
      "1236     3337.0\n",
      "1237     1719.0\n",
      "         ...   \n",
      "1870     6198.0\n",
      "1871     8460.0\n",
      "1872      149.0\n",
      "1873    20008.0\n",
      "1874    19041.0\n",
      "1875     1241.0\n",
      "1876     1003.0\n",
      "1877     3342.0\n",
      "1878     1195.0\n",
      "1879     7089.0\n",
      "1880      177.0\n",
      "1881        7.0\n",
      "1882        1.0\n",
      "1883     6690.0\n",
      "1884      684.0\n",
      "1885        1.0\n",
      "1886       72.0\n",
      "1887     1023.0\n",
      "1888    42819.0\n",
      "1889     2680.0\n",
      "1890    13257.0\n",
      "1891      328.0\n",
      "1892    20667.0\n",
      "1893     8216.0\n",
      "1894     1592.0\n",
      "1895     3444.0\n",
      "1896     3623.0\n",
      "1897     1022.0\n",
      "1898        6.0\n",
      "1899     3334.0\n",
      "Name: uniform visas issued including MEVs\\n, Length: 692, dtype: float64\n",
      "25001.0\n"
     ]
    }
   ],
   "source": [
    "print(df['uniform visas issued including MEVs\\n'][1208:1900])\n",
    "print(df['uniform visas issued including MEVs\\n'][1194])"
   ]
  },
  {
   "cell_type": "code",
   "execution_count": 9,
   "metadata": {},
   "outputs": [
    {
     "name": "stderr",
     "output_type": "stream",
     "text": [
      "C:\\Users\\Rajesh\\Anaconda3\\lib\\site-packages\\ipykernel_launcher.py:3: SettingWithCopyWarning: \n",
      "A value is trying to be set on a copy of a slice from a DataFrame\n",
      "\n",
      "See the caveats in the documentation: http://pandas.pydata.org/pandas-docs/stable/indexing.html#indexing-view-versus-copy\n",
      "  This is separate from the ipykernel package so we can avoid doing imports until\n"
     ]
    }
   ],
   "source": [
    "for i in range(0,len(df['Uniform visas not issued'])):\n",
    "    if(pd.isnull(df['Uniform visas not issued'][i])):\n",
    "        df['Uniform visas not issued'][i]=df['Uniform visas applied for'][i]-df['uniform visas issued including MEVs\\n'][i]-df['Total LTVs issued'][i]"
   ]
  },
  {
   "cell_type": "code",
   "execution_count": 10,
   "metadata": {},
   "outputs": [
    {
     "data": {
      "text/plain": [
       "0          9.0\n",
       "1        822.0\n",
       "2          0.0\n",
       "3        122.0\n",
       "4         79.0\n",
       "5          1.0\n",
       "6          0.0\n",
       "7          5.0\n",
       "8         26.0\n",
       "9          0.0\n",
       "10       597.0\n",
       "11       401.0\n",
       "12         3.0\n",
       "13        14.0\n",
       "14        31.0\n",
       "15         5.0\n",
       "16       822.0\n",
       "17        23.0\n",
       "18         2.0\n",
       "19         2.0\n",
       "20      2002.0\n",
       "21        20.0\n",
       "22      3692.0\n",
       "23         1.0\n",
       "24        46.0\n",
       "25         0.0\n",
       "26       515.0\n",
       "27       137.0\n",
       "28       253.0\n",
       "29       380.0\n",
       "         ...  \n",
       "1870     579.0\n",
       "1871     269.0\n",
       "1872       6.0\n",
       "1873     243.0\n",
       "1874     683.0\n",
       "1875     262.0\n",
       "1876      10.0\n",
       "1877      21.0\n",
       "1878      22.0\n",
       "1879      89.0\n",
       "1880       5.0\n",
       "1881       0.0\n",
       "1882       0.0\n",
       "1883    1566.0\n",
       "1884     221.0\n",
       "1885       0.0\n",
       "1886       0.0\n",
       "1887      69.0\n",
       "1888    1364.0\n",
       "1889     744.0\n",
       "1890    1442.0\n",
       "1891      28.0\n",
       "1892    2519.0\n",
       "1893     163.0\n",
       "1894       3.0\n",
       "1895      17.0\n",
       "1896       6.0\n",
       "1897      30.0\n",
       "1898       1.0\n",
       "1899     301.0\n",
       "Name: Uniform visas not issued, Length: 1900, dtype: float64"
      ]
     },
     "execution_count": 10,
     "metadata": {},
     "output_type": "execute_result"
    }
   ],
   "source": [
    "df['Uniform visas not issued']"
   ]
  },
  {
   "cell_type": "code",
   "execution_count": 11,
   "metadata": {},
   "outputs": [
    {
     "name": "stderr",
     "output_type": "stream",
     "text": [
      "C:\\Users\\Rajesh\\Anaconda3\\lib\\site-packages\\ipykernel_launcher.py:5: SettingWithCopyWarning: \n",
      "A value is trying to be set on a copy of a slice from a DataFrame\n",
      "\n",
      "See the caveats in the documentation: http://pandas.pydata.org/pandas-docs/stable/indexing.html#indexing-view-versus-copy\n",
      "  \"\"\"\n",
      "C:\\Users\\Rajesh\\Anaconda3\\lib\\site-packages\\ipykernel_launcher.py:9: SettingWithCopyWarning: \n",
      "A value is trying to be set on a copy of a slice from a DataFrame\n",
      "\n",
      "See the caveats in the documentation: http://pandas.pydata.org/pandas-docs/stable/indexing.html#indexing-view-versus-copy\n",
      "  if __name__ == '__main__':\n",
      "C:\\Users\\Rajesh\\Anaconda3\\lib\\site-packages\\ipykernel_launcher.py:16: SettingWithCopyWarning: \n",
      "A value is trying to be set on a copy of a slice from a DataFrame\n",
      "\n",
      "See the caveats in the documentation: http://pandas.pydata.org/pandas-docs/stable/indexing.html#indexing-view-versus-copy\n",
      "  app.launch_new_instance()\n",
      "C:\\Users\\Rajesh\\Anaconda3\\lib\\site-packages\\ipykernel_launcher.py:18: SettingWithCopyWarning: \n",
      "A value is trying to be set on a copy of a slice from a DataFrame\n",
      "\n",
      "See the caveats in the documentation: http://pandas.pydata.org/pandas-docs/stable/indexing.html#indexing-view-versus-copy\n"
     ]
    }
   ],
   "source": [
    "i=0;\n",
    "for st in df['Share of MEVs on total number of uniform visas issued']:\n",
    "    st=str(st)\n",
    "    st=st[:-1]\n",
    "    df['Share of MEVs on total number of uniform visas issued'][i]=st\n",
    "    i=i+1\n",
    "for i in range(0,len(df['Share of MEVs on total number of uniform visas issued'])):\n",
    "    if(df['Share of MEVs on total number of uniform visas issued'][i]==\"na\"):\n",
    "     df['Share of MEVs on total number of uniform visas issued'][i]=\"\"\n",
    "    \n",
    "#print(df['Share of MEVs on total number of uniform visas issued'])\n",
    "df['Share of MEVs on total number of uniform visas issued']=pd.to_numeric(df['Share of MEVs on total number of uniform visas issued'])  \n",
    "for i in range(0,len(df['Share of MEVs on total number of uniform visas issued'])):\n",
    "    if(pd.isnull(df['Share of MEVs on total number of uniform visas issued'][i])):\n",
    "        if(df['uniform visas issued including MEVs\\n'][i]==0):\n",
    "            df['Share of MEVs on total number of uniform visas issued'][i]=0\n",
    "        else:\n",
    "            df['Share of MEVs on total number of uniform visas issued'][i]=((df['Multiple entry uniform visas (MEVs) issued'][i]/df['uniform visas issued including MEVs\\n'][i])*100)"
   ]
  },
  {
   "cell_type": "code",
   "execution_count": 12,
   "metadata": {},
   "outputs": [
    {
     "data": {
      "text/plain": [
       "0        31.3\n",
       "1        88.1\n",
       "2       100.0\n",
       "3        37.3\n",
       "4        93.4\n",
       "5       100.0\n",
       "6        97.3\n",
       "7        81.4\n",
       "8        16.2\n",
       "9        77.3\n",
       "10        3.1\n",
       "11        7.7\n",
       "12      100.0\n",
       "13      104.9\n",
       "14       26.1\n",
       "15       68.5\n",
       "16       69.5\n",
       "17       16.9\n",
       "18       90.6\n",
       "19       19.9\n",
       "20      100.1\n",
       "21       10.6\n",
       "22       19.7\n",
       "23       21.1\n",
       "24       21.5\n",
       "25        7.0\n",
       "26       30.4\n",
       "27       10.4\n",
       "28       13.4\n",
       "29       89.2\n",
       "        ...  \n",
       "1870     25.1\n",
       "1871     95.6\n",
       "1872     77.9\n",
       "1873     87.6\n",
       "1874     95.9\n",
       "1875     55.6\n",
       "1876     56.7\n",
       "1877     96.1\n",
       "1878     66.7\n",
       "1879     88.0\n",
       "1880     11.3\n",
       "1881     85.7\n",
       "1882      0.0\n",
       "1883     25.1\n",
       "1884     21.8\n",
       "1885    100.0\n",
       "1886     26.4\n",
       "1887     30.2\n",
       "1888     18.5\n",
       "1889     62.5\n",
       "1890     68.1\n",
       "1891     67.4\n",
       "1892     79.0\n",
       "1893     99.8\n",
       "1894     99.2\n",
       "1895     99.6\n",
       "1896     97.4\n",
       "1897     50.0\n",
       "1898     66.7\n",
       "1899     15.0\n",
       "Name: Share of MEVs on total number of uniform visas issued, Length: 1900, dtype: float64"
      ]
     },
     "execution_count": 12,
     "metadata": {},
     "output_type": "execute_result"
    }
   ],
   "source": [
    "df['Share of MEVs on total number of uniform visas issued']"
   ]
  },
  {
   "cell_type": "code",
   "execution_count": 13,
   "metadata": {},
   "outputs": [
    {
     "name": "stderr",
     "output_type": "stream",
     "text": [
      "C:\\Users\\Rajesh\\Anaconda3\\lib\\site-packages\\ipykernel_launcher.py:5: SettingWithCopyWarning: \n",
      "A value is trying to be set on a copy of a slice from a DataFrame\n",
      "\n",
      "See the caveats in the documentation: http://pandas.pydata.org/pandas-docs/stable/indexing.html#indexing-view-versus-copy\n",
      "  \"\"\"\n",
      "C:\\Users\\Rajesh\\Anaconda3\\lib\\site-packages\\ipykernel_launcher.py:11: SettingWithCopyWarning: \n",
      "A value is trying to be set on a copy of a slice from a DataFrame\n",
      "\n",
      "See the caveats in the documentation: http://pandas.pydata.org/pandas-docs/stable/indexing.html#indexing-view-versus-copy\n",
      "  # This is added back by InteractiveShellApp.init_path()\n"
     ]
    },
    {
     "name": "stdout",
     "output_type": "stream",
     "text": [
      "0       14.516129\n",
      "1       33.131802\n",
      "2        0.000000\n",
      "3        4.394813\n",
      "4        3.997976\n",
      "5        0.162338\n",
      "6        0.000000\n",
      "7        2.304147\n",
      "8        3.790087\n",
      "9        0.000000\n",
      "10       1.641688\n",
      "11       0.890379\n",
      "12      15.789474\n",
      "13       5.363985\n",
      "14       5.950096\n",
      "15       1.012146\n",
      "16      16.463048\n",
      "17       3.432836\n",
      "18       1.801802\n",
      "19       0.404040\n",
      "20       5.437262\n",
      "21       0.315209\n",
      "22      40.222246\n",
      "23       0.173913\n",
      "24       7.176287\n",
      "25       0.000000\n",
      "26      13.627944\n",
      "27       2.045387\n",
      "28      18.201439\n",
      "29       3.618358\n",
      "          ...    \n",
      "1870     8.541083\n",
      "1871     3.051270\n",
      "1872     3.726708\n",
      "1873     1.196867\n",
      "1874     3.337079\n",
      "1875    17.180328\n",
      "1876     0.987167\n",
      "1877     0.623701\n",
      "1878     1.807724\n",
      "1879     1.233883\n",
      "1880     2.747253\n",
      "1881     0.000000\n",
      "1882     0.000000\n",
      "1883    18.417029\n",
      "1884    20.849057\n",
      "1885     0.000000\n",
      "1886     0.000000\n",
      "1887     6.312900\n",
      "1888     3.086741\n",
      "1889    21.540243\n",
      "1890     9.709130\n",
      "1891     7.865169\n",
      "1892    10.785699\n",
      "1893     1.916970\n",
      "1894     0.187852\n",
      "1895     0.477394\n",
      "1896     0.164745\n",
      "1897     2.814259\n",
      "1898    14.285714\n",
      "1899     8.181571\n",
      "Name: Not issued rate for uniform visas, Length: 1900, dtype: float64\n"
     ]
    }
   ],
   "source": [
    "i=0;\n",
    "for st in df['Not issued rate for uniform visas']:\n",
    "    st=str(st)\n",
    "    st[:-1]\n",
    "    df['Not issued rate for uniform visas'][i]=st[:-1]\n",
    "    i=i+1\n",
    "\n",
    "\n",
    "for i in range(0,len(df['Not issued rate for uniform visas'])):\n",
    "    if(df['Not issued rate for uniform visas'][i]==\"na\"):\n",
    "     df['Not issued rate for uniform visas'][i]=\"\"\n",
    "    \n",
    "\n",
    "df['Not issued rate for uniform visas']=pd.to_numeric(df['Not issued rate for uniform visas'])  \n",
    "for i in range(0,len(df['Not issued rate for uniform visas'])):\n",
    "    if(pd.isnull(df['Not issued rate for uniform visas'][i])):\n",
    "        df['Not issued rate for uniform visas']=(df['Uniform visas not issued']/df['Uniform visas applied for'])*100\n",
    "\n",
    "print(df['Not issued rate for uniform visas'])"
   ]
  },
  {
   "cell_type": "code",
   "execution_count": 14,
   "metadata": {},
   "outputs": [
    {
     "name": "stderr",
     "output_type": "stream",
     "text": [
      "C:\\Users\\Rajesh\\Anaconda3\\lib\\site-packages\\ipykernel_launcher.py:5: SettingWithCopyWarning: \n",
      "A value is trying to be set on a copy of a slice from a DataFrame\n",
      "\n",
      "See the caveats in the documentation: http://pandas.pydata.org/pandas-docs/stable/indexing.html#indexing-view-versus-copy\n",
      "  \"\"\"\n",
      "C:\\Users\\Rajesh\\Anaconda3\\lib\\site-packages\\ipykernel_launcher.py:11: SettingWithCopyWarning: \n",
      "A value is trying to be set on a copy of a slice from a DataFrame\n",
      "\n",
      "See the caveats in the documentation: http://pandas.pydata.org/pandas-docs/stable/indexing.html#indexing-view-versus-copy\n",
      "  # This is added back by InteractiveShellApp.init_path()\n"
     ]
    }
   ],
   "source": [
    "i=0;\n",
    "for st in df['Not issued rate for ATVs and uniform visas ']:\n",
    "    st=str(st)\n",
    "    st[:-1]\n",
    "    df['Not issued rate for ATVs and uniform visas '][i]=st[:-1]\n",
    "    i=i+1\n",
    "\n",
    "\n",
    "for i in range(0,len(df['Not issued rate for ATVs and uniform visas '])):\n",
    "    if(df['Not issued rate for ATVs and uniform visas '][i]==\"na\"):\n",
    "     df['Not issued rate for ATVs and uniform visas '][i]=\"\"\n",
    "    \n",
    "\n",
    "df['Not issued rate for ATVs and uniform visas ']=pd.to_numeric(df['Not issued rate for ATVs and uniform visas '],errors='corence')  \n",
    "#df['Total ATVs and uniform visas not issued']=pd.to_numeric(df['Total ATVs and uniform visas not issued'],errors='corence') \n",
    "#df['Total ATVs and uniform visas applied for']=pd.to_numeric(df['Total ATVs and uniform visas applied for'],errors='corence')\n"
   ]
  },
  {
   "cell_type": "code",
   "execution_count": 15,
   "metadata": {},
   "outputs": [],
   "source": [
    "df['Total ATVs and uniform visas applied for']=df['Total ATVs and uniform visas applied for'].str.replace(',','')\n",
    "df['Total ATVs and uniform visas applied for']=pd.to_numeric(df['Total ATVs and uniform visas applied for'],errors='corece')\n",
    "df['Total ATVs and uniform visas issued  (including multiple ATVs, MEVs and LTVs) ']=df['Total ATVs and uniform visas issued  (including multiple ATVs, MEVs and LTVs) '].str.replace(',','')\n",
    "df['Total ATVs and uniform visas issued  (including multiple ATVs, MEVs and LTVs) ']=pd.to_numeric(df['Total ATVs and uniform visas issued  (including multiple ATVs, MEVs and LTVs) '],errors='corece')\n",
    "df['Total ATVs and uniform visas not issued']=df['Total ATVs and uniform visas not issued'].str.replace(',','')\n",
    "df['Total ATVs and uniform visas not issued']=pd.to_numeric(df['Total ATVs and uniform visas not issued'],errors='corece')\n"
   ]
  },
  {
   "cell_type": "code",
   "execution_count": 16,
   "metadata": {},
   "outputs": [
    {
     "name": "stderr",
     "output_type": "stream",
     "text": [
      "C:\\Users\\Rajesh\\Anaconda3\\lib\\site-packages\\ipykernel_launcher.py:3: SettingWithCopyWarning: \n",
      "A value is trying to be set on a copy of a slice from a DataFrame\n",
      "\n",
      "See the caveats in the documentation: http://pandas.pydata.org/pandas-docs/stable/indexing.html#indexing-view-versus-copy\n",
      "  This is separate from the ipykernel package so we can avoid doing imports until\n",
      "C:\\Users\\Rajesh\\Anaconda3\\lib\\site-packages\\ipykernel_launcher.py:5: SettingWithCopyWarning: \n",
      "A value is trying to be set on a copy of a slice from a DataFrame\n",
      "\n",
      "See the caveats in the documentation: http://pandas.pydata.org/pandas-docs/stable/indexing.html#indexing-view-versus-copy\n",
      "  \"\"\"\n",
      "C:\\Users\\Rajesh\\Anaconda3\\lib\\site-packages\\ipykernel_launcher.py:7: SettingWithCopyWarning: \n",
      "A value is trying to be set on a copy of a slice from a DataFrame\n",
      "\n",
      "See the caveats in the documentation: http://pandas.pydata.org/pandas-docs/stable/indexing.html#indexing-view-versus-copy\n",
      "  import sys\n"
     ]
    }
   ],
   "source": [
    "for i in range(0,len(df['ATVs applied'])):\n",
    "    if(pd.isnull(df['ATVs applied'][i])):\n",
    "        df['ATVs applied'][i]=0\n",
    "    if(pd.isnull(df['ATVs not issued '][i])):\n",
    "        df['ATVs not issued '][i]=0\n",
    "    if(pd.isnull(df[' ATVs issued (including multiple)'][i])):\n",
    "        df[' ATVs issued (including multiple)'][i]=0"
   ]
  },
  {
   "cell_type": "code",
   "execution_count": 17,
   "metadata": {},
   "outputs": [
    {
     "name": "stderr",
     "output_type": "stream",
     "text": [
      "C:\\Users\\Rajesh\\Anaconda3\\lib\\site-packages\\ipykernel_launcher.py:9: SettingWithCopyWarning: \n",
      "A value is trying to be set on a copy of a slice from a DataFrame\n",
      "\n",
      "See the caveats in the documentation: http://pandas.pydata.org/pandas-docs/stable/indexing.html#indexing-view-versus-copy\n",
      "  if __name__ == '__main__':\n",
      "C:\\Users\\Rajesh\\Anaconda3\\lib\\site-packages\\ipykernel_launcher.py:4: SettingWithCopyWarning: \n",
      "A value is trying to be set on a copy of a slice from a DataFrame\n",
      "\n",
      "See the caveats in the documentation: http://pandas.pydata.org/pandas-docs/stable/indexing.html#indexing-view-versus-copy\n",
      "  after removing the cwd from sys.path.\n",
      "C:\\Users\\Rajesh\\Anaconda3\\lib\\site-packages\\ipykernel_launcher.py:5: SettingWithCopyWarning: \n",
      "A value is trying to be set on a copy of a slice from a DataFrame\n",
      "\n",
      "See the caveats in the documentation: http://pandas.pydata.org/pandas-docs/stable/indexing.html#indexing-view-versus-copy\n",
      "  \"\"\"\n"
     ]
    }
   ],
   "source": [
    "for i in range(0,len(df['Total ATVs and uniform visas applied for'])):\n",
    "    if( pd.isnull(df['Total ATVs and uniform visas not issued'][i])):\n",
    "        if(pd.isnull(df['Total ATVs and uniform visas not issued'][i]) & pd.isnull(df['Total ATVs and uniform visas issued  (including multiple ATVs, MEVs and LTVs) '][i])):\n",
    "            df['Total ATVs and uniform visas issued  (including multiple ATVs, MEVs and LTVs) '][i]=df['Total ATVs and uniform visas applied for'][i]\n",
    "            df['Total ATVs and uniform visas not issued'][i]=df['Total ATVs and uniform visas applied for'][i]-df['Total ATVs and uniform visas issued  (including multiple ATVs, MEVs and LTVs) '][i]\n",
    "        elif(pd.notnull(df['Total ATVs and uniform visas not issued'][i])&pd.notnull(df['Total ATVs and uniform visas applied for'][i])&pd.isnull(df['Total ATVs and uniform visas issued  (including multiple ATVs, MEVs and LTVs) '][i])):\n",
    "            df['Total ATVs and uniform visas issued  (including multiple ATVs, MEVs and LTVs) '][i]=df['Total ATVs and uniform visas applied for'][i]-df['Total ATVs and uniform visas not issued'][i]\n",
    "        else:\n",
    "            df['Total ATVs and uniform visas not issued'][i]=df['Total ATVs and uniform visas applied for'][i]-df['Total ATVs and uniform visas issued  (including multiple ATVs, MEVs and LTVs) '][i]\n",
    "        \n"
   ]
  },
  {
   "cell_type": "code",
   "execution_count": 18,
   "metadata": {},
   "outputs": [
    {
     "name": "stdout",
     "output_type": "stream",
     "text": [
      "Index(['Schengen State', 'Country where consulate is located', 'Consulate',\n",
      "       'ATVs applied', ' ATVs issued (including multiple)', 'ATVs not issued ',\n",
      "       'Uniform visas applied for', 'uniform visas issued including MEVs\\n',\n",
      "       'Multiple entry uniform visas (MEVs) issued',\n",
      "       'Share of MEVs on total number of uniform visas issued',\n",
      "       'Total LTVs issued', 'Uniform visas not issued',\n",
      "       'Not issued rate for uniform visas',\n",
      "       'Total ATVs and uniform visas applied for',\n",
      "       'Total ATVs and uniform visas issued  (including multiple ATVs, MEVs and LTVs) ',\n",
      "       'Total ATVs and uniform visas not issued',\n",
      "       'Not issued rate for ATVs and uniform visas '],\n",
      "      dtype='object')\n"
     ]
    }
   ],
   "source": [
    "print(df.columns)"
   ]
  },
  {
   "cell_type": "code",
   "execution_count": 19,
   "metadata": {},
   "outputs": [
    {
     "name": "stdout",
     "output_type": "stream",
     "text": [
      "1750     239.0\n",
      "1751       7.0\n",
      "1752       3.0\n",
      "1753       0.0\n",
      "1754       0.0\n",
      "1755       3.0\n",
      "1756    2637.0\n",
      "1757       0.0\n",
      "1758       2.0\n",
      "1759       2.0\n",
      "1760    1991.0\n",
      "1761     452.0\n",
      "1762     245.0\n",
      "1763      47.0\n",
      "1764       0.0\n",
      "1765     275.0\n",
      "1766    1248.0\n",
      "1767     441.0\n",
      "1768       0.0\n",
      "1769       0.0\n",
      "1770       0.0\n",
      "1771       9.0\n",
      "1772    1943.0\n",
      "1773      54.0\n",
      "1774    5121.0\n",
      "1775      12.0\n",
      "1776     188.0\n",
      "1777       3.0\n",
      "1778       0.0\n",
      "1779      12.0\n",
      "1780     927.0\n",
      "1781     465.0\n",
      "1782     892.0\n",
      "1783       4.0\n",
      "1784       0.0\n",
      "1785       0.0\n",
      "1786     847.0\n",
      "1787       0.0\n",
      "1788    2002.0\n",
      "1789      59.0\n",
      "1790    2235.0\n",
      "1791    1557.0\n",
      "1792       2.0\n",
      "1793     391.0\n",
      "1794     769.0\n",
      "1795       4.0\n",
      "1796       0.0\n",
      "1797     104.0\n",
      "1798      35.0\n",
      "1799       0.0\n",
      "Name: Total ATVs and uniform visas not issued, dtype: float64\n"
     ]
    }
   ],
   "source": [
    "print(df['Total ATVs and uniform visas not issued'][1750:1800])"
   ]
  },
  {
   "cell_type": "code",
   "execution_count": 20,
   "metadata": {},
   "outputs": [],
   "source": [
    "for i in range(0,len(df['Not issued rate for ATVs and uniform visas '])):\n",
    "    if(pd.isnull(df['Not issued rate for ATVs and uniform visas '][i])):\n",
    "        df['Not issued rate for ATVs and uniform visas ']=(df['Total ATVs and uniform visas not issued']/df['Total ATVs and uniform visas applied for'])*100"
   ]
  },
  {
   "cell_type": "code",
   "execution_count": 21,
   "metadata": {},
   "outputs": [
    {
     "data": {
      "text/plain": [
       "Schengen State                                                                     0\n",
       "Country where consulate is located                                                 0\n",
       "Consulate                                                                          0\n",
       "ATVs applied                                                                       0\n",
       " ATVs issued (including multiple)                                                  0\n",
       "ATVs not issued                                                                    0\n",
       "Uniform visas applied for                                                          3\n",
       "uniform visas issued including MEVs\\n                                             35\n",
       "Multiple entry uniform visas (MEVs) issued                                         0\n",
       "Share of MEVs on total number of uniform visas issued                             35\n",
       "Total LTVs issued                                                                 32\n",
       "Uniform visas not issued                                                          36\n",
       "Not issued rate for uniform visas                                                 36\n",
       "Total ATVs and uniform visas applied for                                           4\n",
       "Total ATVs and uniform visas issued  (including multiple ATVs, MEVs and LTVs)      9\n",
       "Total ATVs and uniform visas not issued                                            3\n",
       "Not issued rate for ATVs and uniform visas                                         4\n",
       "dtype: int64"
      ]
     },
     "execution_count": 21,
     "metadata": {},
     "output_type": "execute_result"
    }
   ],
   "source": [
    "df.isnull().sum()"
   ]
  },
  {
   "cell_type": "code",
   "execution_count": 22,
   "metadata": {},
   "outputs": [],
   "source": [
    "df['uniform visas issued including MEVs\\n']=df['uniform visas issued including MEVs\\n'].fillna(0)\n",
    "df['Multiple entry uniform visas (MEVs) issued']=df['Multiple entry uniform visas (MEVs) issued'].fillna(0)\n",
    "df['Share of MEVs on total number of uniform visas issued']=df['Share of MEVs on total number of uniform visas issued'].fillna(0)\n",
    "df['Uniform visas not issued']=df['Uniform visas not issued'].fillna(0)\n",
    "df['Total LTVs issued']=df['Total LTVs issued'].fillna(0)\n",
    "df['Not issued rate for uniform visas']=df['Not issued rate for uniform visas'].fillna(0)\n",
    "\n",
    "df.to_csv('finaldata.csv',index=False)"
   ]
  },
  {
   "cell_type": "code",
   "execution_count": null,
   "metadata": {},
   "outputs": [],
   "source": []
  },
  {
   "cell_type": "code",
   "execution_count": null,
   "metadata": {},
   "outputs": [],
   "source": []
  }
 ],
 "metadata": {
  "kernelspec": {
   "display_name": "Python 3",
   "language": "python",
   "name": "python3"
  },
  "language_info": {
   "codemirror_mode": {
    "name": "ipython",
    "version": 3
   },
   "file_extension": ".py",
   "mimetype": "text/x-python",
   "name": "python",
   "nbconvert_exporter": "python",
   "pygments_lexer": "ipython3",
   "version": "3.7.3"
  }
 },
 "nbformat": 4,
 "nbformat_minor": 2
}
